{
 "cells": [
  {
   "cell_type": "code",
   "execution_count": 2,
   "metadata": {},
   "outputs": [
    {
     "name": "stdout",
     "output_type": "stream",
     "text": [
      "Alcance:  169.33818018542166\n"
     ]
    },
    {
     "data": {
      "image/png": "[encoded data removed]",
      "text/plain": [
       "<Figure size 432x288 with 1 Axes>"
      ]
     },
     "metadata": {
      "needs_background": "light"
     },
     "output_type": "display_data"
    }
   ],
   "source": [
    "import matplotlib.pyplot as plt\n",
    "from math import *\n",
    "import numpy as np\n",
    "\n",
    "def fx(ca, vy, vx, m, mi):\n",
    "    return -(1/m) * ca * (sqrt(vx**2 + vy**2) * vx) - mi * vx\n",
    "\n",
    "def fy(ca, vy, vx, g, m, mi):\n",
    "    return -g -(1/m) * ca * (sqrt(vx**2 + vy**2) * vy) - mi * vy\n",
    "\n",
    "def gx(vx):\n",
    "    return vx\n",
    "\n",
    "def gy(vy):\n",
    "    return vy\n",
    "\n",
    "m = 0.010 \n",
    "mi = 18.68e-6\n",
    "ca = 0.00010 \n",
    "g = 9.80 \n",
    "\n",
    "h = 0.0001 \n",
    "t0 = 0 \n",
    "x0 = 0 \n",
    "y0 = 0.3 \n",
    "V0 = 100.0 \n",
    "tetha = 3.14159 * 30.0/ 180.0 \n",
    "#39.1250\n",
    "vx0 = V0 * cos(tetha) \n",
    "vy0 = V0 * sin(tetha) \n",
    "\n",
    "i   = 1;\n",
    "\n",
    "t  = t0 ;\n",
    "x  = x0 ;\n",
    "y  = y0 ;\n",
    "vx = vx0 ;\n",
    "vy = vy0 ;\n",
    "\n",
    "tempo = []\n",
    "posicx = []\n",
    "posicy = []\n",
    "while(y > 0.0001):\n",
    "    vx = vx + h * fx( ca, vy, vx, m, mi ) ;\n",
    "    vy = vy + h * fy( ca, vy, vx, g, m, mi ) ;\n",
    "    x  =  x + h * gx( vx ) ;\n",
    "    y  =  y + h * gy( vy ) ;\n",
    "    i = i + 1 ;\n",
    "    \n",
    "    tempo.append(t) ;\n",
    "    posicx.append(x) ;\n",
    "    posicy.append(y) ;\n",
    "\n",
    "\n",
    "plt.plot( posicx ,posicy,'C1', linewidth=2)\n",
    "print(\"Alcance: \", posicx[-1])\n",
    "plt.show()"
   ]
  }
 ],
 "metadata": {
  "kernelspec": {
   "display_name": "Python 3",
   "language": "python",
   "name": "python3"
  },
  "language_info": {
   "codemirror_mode": {
    "name": "ipython",
    "version": 3
   },
   "file_extension": ".py",
   "mimetype": "text/x-python",
   "name": "python",
   "nbconvert_exporter": "python",
   "pygments_lexer": "ipython3",
   "version": "3.7.1"
  }
 },
 "nbformat": 4,
 "nbformat_minor": 2
}
