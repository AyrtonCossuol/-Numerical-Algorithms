{
 "cells": [
  {
   "cell_type": "code",
   "execution_count": 3,
   "metadata": {},
   "outputs": [
    {
     "name": "stdout",
     "output_type": "stream",
     "text": [
      "Alcance =  169.37419398368206\n"
     ]
    },
    {
     "data": {
      "image/png": "[encoded data removed]",
      "text/plain": [
       "<Figure size 432x288 with 1 Axes>"
      ]
     },
     "metadata": {
      "needs_background": "light"
     },
     "output_type": "display_data"
    }
   ],
   "source": [
    "#==============================================================================\n",
    "#                    Descrição:\n",
    "#     Runge-Kutta de 4° Ordem em enfase a lançamento de projetio\n",
    "#==============================================================================\n",
    "\n",
    "import matplotlib.pyplot as plt\n",
    "from math import *\n",
    "import numpy as np\n",
    "\n",
    "def fx(ca, vy, vx, m, mi):\n",
    "    return -(1/m) * ca * (sqrt(vx**2 + vy**2) * vx) - mi * vx\n",
    "\n",
    "def fy(ca, vy, vx, g, m, mi):\n",
    "    return -g -(1/m) * ca * (sqrt(vx**2 + vy**2) * vy) - mi * vy\n",
    "\n",
    "def gx(vx):\n",
    "    return vx\n",
    "\n",
    "def gy(vy):\n",
    "    return vy\n",
    "\n",
    "m = 0.010 \n",
    "ca = 0.00010 \n",
    "mi = 18.68e-6\n",
    "g = 9.80 \n",
    "\n",
    "h = 0.01 \n",
    "t0 = 0 \n",
    "x0 = 0 \n",
    "y0 = 0.3 \n",
    "V0 = 100.0 \n",
    "tetha = 3.14159 * 30.0/ 180.0 \n",
    "vx0 = V0 * cos(tetha) \n",
    "vy0 = V0 * sin(tetha) \n",
    "\n",
    "i   = 1;\n",
    "\n",
    "t  = t0 ;\n",
    "x  = x0 ;\n",
    "y  = y0 ;\n",
    "vx = vx0 ;\n",
    "vy = vy0 ;\n",
    "\n",
    "tempo = []\n",
    "posicx = []\n",
    "posicy = []\n",
    "while(y > 0.0001):\n",
    "    \n",
    "    k11 = h * fx(ca, vy, vx, m, mi)\n",
    "    k12 = h * fy(ca, vy, vx, g, m, mi)\n",
    "    k13 = h * gx(vx)\n",
    "    k14 = h * gy(vy)\n",
    "    \n",
    "    t = t + 0.5 * h\n",
    "    \n",
    "    k21 = h * fx(ca, vy + 0.5 * k12, vx + 0.5 * k11, m, mi)\n",
    "    k22 = h * fy(ca, vy + 0.5 * k12, vx + 0.5 * k11, g, m, mi)\n",
    "    k23 = h * gx(vx + 0.5 * k11)\n",
    "    k24 = h * gy(vy + 0.5 * k12)\n",
    "    \n",
    "    \n",
    "    k31 = h * fx(ca, vy + 0.5 * k22, vx + 0.5 * k21, m, mi)\n",
    "    k32 = h * fy(ca, vy + 0.5 * k22, vx + 0.5 * k21, g, m, mi)\n",
    "    k33 = h * gx(vx + 0.5 * k21)\n",
    "    k34 = h * gy(vy + 0.5 * k22)\n",
    "    \n",
    "    t = t + 0.5 * h\n",
    "    \n",
    "    k41 = h * fx(ca, vy + k32, vx + k31, m, mi)\n",
    "    k42 = h * fy(ca, vy + k32, vx + k31, g, m, mi)\n",
    "    k43 = h * gx(vx + k31)\n",
    "    k44 = h * gy(vy + k32)\n",
    "    \n",
    "    vx = vx + (1.0/6.0) * ( 1.0 * k11 + 2.0 * k21 + 2.0 * k31 + 1.0 * k41 ) \n",
    "    vy = vy + (1.0/6.0) * ( 1.0 * k12 + 2.0 * (k22 + k32) + 1.0 * k42 ) \n",
    "    x  =  x + (1.0/6.0) * ( 1.0 * k13 + 2.0 * (k23 + k33) + 1.0 * k43 ) \n",
    "    y  =  y + (1.0/6.0) * ( 1.0 * k14 + 2.0 * (k24 + k34) + 1.0 * k44 ) \n",
    "    \n",
    "    tempo.append(t) ;\n",
    "    posicx.append(x) ;\n",
    "    posicy.append(y) ;\n",
    "\n",
    "\n",
    "print(\"Alcance = \", posicx[-1])\n",
    "plt.plot(posicx ,posicy,'C1', linewidth=2)\n",
    "plt.show()"
   ]
  }
 ],
 "metadata": {
  "kernelspec": {
   "display_name": "Python 3",
   "language": "python",
   "name": "python3"
  },
  "language_info": {
   "codemirror_mode": {
    "name": "ipython",
    "version": 3
   },
   "file_extension": ".py",
   "mimetype": "text/x-python",
   "name": "python",
   "nbconvert_exporter": "python",
   "pygments_lexer": "ipython3",
   "version": "3.7.1"
  }
 },
 "nbformat": 4,
 "nbformat_minor": 2
}
