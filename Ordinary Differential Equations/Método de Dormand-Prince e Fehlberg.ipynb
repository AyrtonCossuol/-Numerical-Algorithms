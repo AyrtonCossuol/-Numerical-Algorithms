{
 "cells": [
  {
   "cell_type": "code",
   "execution_count": 146,
   "metadata": {},
   "outputs": [
    {
     "name": "stdout",
     "output_type": "stream",
     "text": [
      "Alcance =  169.4384834903816\n"
     ]
    },
    {
     "data": {
      "image/png": "[encoded data removed]",
      "text/plain": [
       "<Figure size 432x288 with 1 Axes>"
      ]
     },
     "metadata": {
      "needs_background": "light"
     },
     "output_type": "display_data"
    }
   ],
   "source": [
    "import matplotlib.pyplot as plt\n",
    "from math import *\n",
    "import numpy as np\n",
    "\n",
    "def fx(ca, vy, vx, m, mi):\n",
    "    return -(1/m) * ca * (sqrt(vx**2 + vy**2) * vx) - mi * vx\n",
    "\n",
    "def fy(ca, vy, vx, g, m, mi):\n",
    "    return -g -(1/m) * ca * (sqrt(vx**2 + vy**2) * vy) - mi * vy\n",
    "\n",
    "def gx(vx):\n",
    "    return vx\n",
    "\n",
    "def gy(vy):\n",
    "    return vy\n",
    "\n",
    "m = 0.010 \n",
    "ca = 0.00010 \n",
    "mi = 18.68e-6\n",
    "g = 9.80 \n",
    "\n",
    "h = 0.001 \n",
    "t0 = 0 \n",
    "x0 = 0 \n",
    "y0 = 0.3 \n",
    "V0 = 100.0 \n",
    "tetha = 3.14159 * 30.0/ 180.0 \n",
    "vx0 = V0 * cos(tetha) \n",
    "vy0 = V0 * sin(tetha) \n",
    "\n",
    "i   = 1;\n",
    "\n",
    "t  = t0 ;\n",
    "x  = x0 ;\n",
    "y  = y0 ;\n",
    "vx = vx0 ;\n",
    "vy = vy0 ;\n",
    "\n",
    "tempo = []\n",
    "posicx = []\n",
    "posicy = []\n",
    "a =[[0],[1/5],[3/40, 9/40],[44/55, -56/15, 32/9],[19372/6561, -25360/2187, 64448/6561, -212/729],\n",
    "    [9017/3168, -355/33, 46732/5247, 49/176, -5103/18656],[35/384, 0, 500/1113, 125/192, -2187/6784, 11/84]] \n",
    "\n",
    "b4 = [[5179/57600], [0], [7571/16695], [393/640], [-92097/339200], [187/2100], [1/40]]\n",
    "b5 = [[35/384], [0], [500/1113], [125/192], [-2187/6784], [11/84], [0]]\n",
    "\n",
    "c = []\n",
    "\n",
    "for i in range(6):\n",
    "    c.append(sum(a[i][:]))\n",
    "\n",
    "k1_ = np.zeros((1,7));\n",
    "k2_ = np.zeros((1,7));\n",
    "k3_ = np.zeros((1,7));\n",
    "k4_ = np.zeros((1,7));\n",
    "\n",
    "k1_[0][0] = h * fx(ca, vy, vx, m, mi)\n",
    "k2_[0][0] = h * fy(ca, vy, vx, g, m, mi)\n",
    "k3_[0][0] = h * gx(vx)\n",
    "k4_[0][0] = h * gy(vy)\n",
    "while(y > 0.0001):\n",
    "    for j in range(7):\n",
    "        k1_[0][j] = fx( ca, float(vy + h * sum(k2_[0][0:j]) * sum(a[j][0:j])), \n",
    "                       float(vx + h * sum(k1_[0][0:j]) * sum(a[j][0:j])), m, mi ) ;\n",
    "        k2_[0][j] = fy( ca, float(vy + h * sum(k2_[0][0:j]) * sum(a[j][0:j])), \n",
    "                       float(vx + h * sum(k1_[0][0:j]) * sum(a[j][0:j])), g, m, mi ) ;\n",
    "        k3_[0][j] = gx( vx + h * sum(k1_[0][0:j]) * sum(a[j][0:j])) ;\n",
    "        k4_[0][j] = gy( vy + h * sum(k2_[0][0:j]) * sum(a[j][0:j])) ; \n",
    "    \n",
    "    \n",
    "    #vx = vx + h * sum(k1_[0] * b4[0]); \n",
    "    #vy = vy + h * sum(k2_[0] * b4[0]); \n",
    "    #x  =  x + h * sum(k3_[0] * b4[0]);\n",
    "    #y  =  y + h * sum(k4_[0] * b4[0]);\n",
    "    \n",
    "    vx = vx + h * sum(k1_[0] * b5[0]); \n",
    "    vy = vy + h * sum(k2_[0] * b5[0]); \n",
    "    x  =  x + h * sum(k3_[0] * b5[0]);\n",
    "    y  =  y + h * sum(k4_[0] * b5[0]);\n",
    "    \n",
    "    t = t + 1\n",
    "    \n",
    "    tempo.append(t)\n",
    "    posicx.append(x)\n",
    "    posicy.append(y)\n",
    "\n",
    "\n",
    "print(\"Alcance = \", posicx[-1])\n",
    "plt.plot(posicx ,posicy,'C1', linewidth=2)\n",
    "plt.show()"
   ]
  }
 ],
 "metadata": {
  "kernelspec": {
   "display_name": "Python 3",
   "language": "python",
   "name": "python3"
  },
  "language_info": {
   "codemirror_mode": {
    "name": "ipython",
    "version": 3
   },
   "file_extension": ".py",
   "mimetype": "text/x-python",
   "name": "python",
   "nbconvert_exporter": "python",
   "pygments_lexer": "ipython3",
   "version": "3.7.1"
  }
 },
 "nbformat": 4,
 "nbformat_minor": 2
}
